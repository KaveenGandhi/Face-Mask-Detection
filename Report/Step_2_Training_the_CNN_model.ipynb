{
 "cells": [
  {
   "cell_type": "markdown",
   "metadata": {},
   "source": [
    "## Step 2 : Convolution Neural network (CNN) MODEL TRAINING"
   ]
  },
  {
   "cell_type": "markdown",
   "metadata": {},
   "source": [
    "* This consists of 2 convolutional layers (Two Convo2D 100@3x3).\n",
    "* First, you have to load the dataset from data preprocessing.\n",
    "* Then we have to configure the convolutional architecture\n",
    "* I’ve included a model.add(Dropout(0.5)) to avoid the overfitting.\n",
    "* Since we have two categories(with mask and without mask) we can use binary_crossentropy.\n",
    "* You start training for 20 epoch with a model checkpoint."
   ]
  },
  {
   "cell_type": "code",
   "execution_count": 1,
   "metadata": {},
   "outputs": [],
   "source": [
    "import numpy as np"
   ]
  },
  {
   "cell_type": "code",
   "execution_count": 2,
   "metadata": {},
   "outputs": [
    {
     "name": "stderr",
     "output_type": "stream",
     "text": [
      "Using TensorFlow backend.\n"
     ]
    }
   ],
   "source": [
    "from keras.optimizers import RMSprop\n",
    "from keras.preprocessing.image import ImageDataGenerator\n",
    "import cv2\n",
    "from keras.models import Sequential\n",
    "from keras.layers import Conv2D, Input, ZeroPadding2D, BatchNormalization, Activation, MaxPooling2D, Flatten, Dense,Dropout\n",
    "from keras.models import Model, load_model\n",
    "from keras.callbacks import TensorBoard, ModelCheckpoint\n",
    "from sklearn.model_selection import train_test_split\n",
    "from sklearn.metrics import f1_score\n",
    "from sklearn.utils import shuffle\n",
    "import imutils\n",
    "import numpy as np"
   ]
  },
  {
   "cell_type": "code",
   "execution_count": 3,
   "metadata": {},
   "outputs": [],
   "source": [
    "#loading the same numpy arrays \n",
    "Data=np.load('Data.npy')\n",
    "Target=np.load('Target.npy')"
   ]
  },
  {
   "cell_type": "code",
   "execution_count": 4,
   "metadata": {},
   "outputs": [],
   "source": [
    "#initialize CNN\n",
    "model=Sequential()"
   ]
  },
  {
   "cell_type": "markdown",
   "metadata": {},
   "source": [
    "### steps for CNN training\n",
    "#### Step 1 : Convolution"
   ]
  },
  {
   "cell_type": "code",
   "execution_count": 5,
   "metadata": {},
   "outputs": [],
   "source": [
    "model.add(Conv2D(200, (3,3), activation='relu', input_shape=Data.shape[1:]))"
   ]
  },
  {
   "cell_type": "markdown",
   "metadata": {},
   "source": [
    "#### Step 2 : Maxpooling"
   ]
  },
  {
   "cell_type": "code",
   "execution_count": 6,
   "metadata": {},
   "outputs": [],
   "source": [
    "model.add(MaxPooling2D(pool_size=(2,2)))"
   ]
  },
  {
   "cell_type": "code",
   "execution_count": 7,
   "metadata": {},
   "outputs": [],
   "source": [
    "#adding another convolution to improve the accuracy of the model\n",
    "\n",
    "model.add(Conv2D(100, (3,3), activation='relu'))\n",
    "model.add(MaxPooling2D(pool_size=(2,2)))"
   ]
  },
  {
   "cell_type": "markdown",
   "metadata": {},
   "source": [
    "#### Step 3 : Flatten"
   ]
  },
  {
   "cell_type": "code",
   "execution_count": 8,
   "metadata": {},
   "outputs": [],
   "source": [
    "model.add(Flatten())"
   ]
  },
  {
   "cell_type": "markdown",
   "metadata": {},
   "source": [
    "#### Step 4: Full connection"
   ]
  },
  {
   "cell_type": "code",
   "execution_count": 9,
   "metadata": {},
   "outputs": [],
   "source": [
    "model.add(Dropout(0.5))\n",
    "model.add(Dense(50, activation='relu'))\n",
    "model.add(Dense(2, activation='softmax'))"
   ]
  },
  {
   "cell_type": "markdown",
   "metadata": {},
   "source": [
    "#### Model Summary :"
   ]
  },
  {
   "cell_type": "code",
   "execution_count": 10,
   "metadata": {},
   "outputs": [
    {
     "name": "stdout",
     "output_type": "stream",
     "text": [
      "Model: \"sequential_1\"\n",
      "_________________________________________________________________\n",
      "Layer (type)                 Output Shape              Param #   \n",
      "=================================================================\n",
      "conv2d_1 (Conv2D)            (None, 98, 98, 200)       2000      \n",
      "_________________________________________________________________\n",
      "max_pooling2d_1 (MaxPooling2 (None, 49, 49, 200)       0         \n",
      "_________________________________________________________________\n",
      "conv2d_2 (Conv2D)            (None, 47, 47, 100)       180100    \n",
      "_________________________________________________________________\n",
      "max_pooling2d_2 (MaxPooling2 (None, 23, 23, 100)       0         \n",
      "_________________________________________________________________\n",
      "flatten_1 (Flatten)          (None, 52900)             0         \n",
      "_________________________________________________________________\n",
      "dropout_1 (Dropout)          (None, 52900)             0         \n",
      "_________________________________________________________________\n",
      "dense_1 (Dense)              (None, 50)                2645050   \n",
      "_________________________________________________________________\n",
      "dense_2 (Dense)              (None, 2)                 102       \n",
      "=================================================================\n",
      "Total params: 2,827,252\n",
      "Trainable params: 2,827,252\n",
      "Non-trainable params: 0\n",
      "_________________________________________________________________\n"
     ]
    }
   ],
   "source": [
    "model.summary()"
   ]
  },
  {
   "cell_type": "markdown",
   "metadata": {},
   "source": [
    "### Compile the model :"
   ]
  },
  {
   "cell_type": "code",
   "execution_count": 11,
   "metadata": {},
   "outputs": [],
   "source": [
    "model.compile(optimizer='adam', loss='binary_crossentropy', metrics=['accuracy'])"
   ]
  },
  {
   "cell_type": "markdown",
   "metadata": {},
   "source": [
    "### Spliting the data into train and test :"
   ]
  },
  {
   "cell_type": "code",
   "execution_count": 12,
   "metadata": {},
   "outputs": [],
   "source": [
    "from sklearn.model_selection import train_test_split\n",
    "train_Data,test_Data,train_Target,test_Target=train_test_split(Data,Target,test_size=0.1)"
   ]
  },
  {
   "cell_type": "markdown",
   "metadata": {},
   "source": [
    "### Save the best model using modelcheckpoint"
   ]
  },
  {
   "cell_type": "code",
   "execution_count": 13,
   "metadata": {},
   "outputs": [],
   "source": [
    "checkpoint = ModelCheckpoint('model2-{epoch:03d}.model',monitor='val_loss',verbose=0,save_best_only=True,mode='auto')"
   ]
  },
  {
   "cell_type": "markdown",
   "metadata": {},
   "source": [
    "### Train the neural network :"
   ]
  },
  {
   "cell_type": "code",
   "execution_count": 14,
   "metadata": {},
   "outputs": [
    {
     "name": "stdout",
     "output_type": "stream",
     "text": [
      "Train on 990 samples, validate on 248 samples\n",
      "Epoch 1/20\n",
      "990/990 [==============================] - 217s 219ms/step - loss: 0.6705 - accuracy: 0.5818 - val_loss: 0.5916 - val_accuracy: 0.6855\n",
      "Epoch 2/20\n",
      "990/990 [==============================] - 210s 212ms/step - loss: 0.4851 - accuracy: 0.7697 - val_loss: 0.3607 - val_accuracy: 0.8790\n",
      "Epoch 3/20\n",
      "990/990 [==============================] - 212s 214ms/step - loss: 0.2741 - accuracy: 0.8960 - val_loss: 0.2589 - val_accuracy: 0.8992\n",
      "Epoch 4/20\n",
      "990/990 [==============================] - 206s 209ms/step - loss: 0.2270 - accuracy: 0.9162 - val_loss: 0.3433 - val_accuracy: 0.8427\n",
      "Epoch 5/20\n",
      "990/990 [==============================] - 211s 213ms/step - loss: 0.1714 - accuracy: 0.9333 - val_loss: 0.1851 - val_accuracy: 0.9315\n",
      "Epoch 6/20\n",
      "990/990 [==============================] - 209s 211ms/step - loss: 0.1165 - accuracy: 0.9636 - val_loss: 0.1858 - val_accuracy: 0.9435\n",
      "Epoch 7/20\n",
      "990/990 [==============================] - 213s 215ms/step - loss: 0.0870 - accuracy: 0.9788 - val_loss: 0.1649 - val_accuracy: 0.9435\n",
      "Epoch 8/20\n",
      "990/990 [==============================] - 213s 215ms/step - loss: 0.0658 - accuracy: 0.9808 - val_loss: 0.1683 - val_accuracy: 0.9395\n",
      "Epoch 9/20\n",
      "990/990 [==============================] - 213s 215ms/step - loss: 0.0647 - accuracy: 0.9747 - val_loss: 0.1710 - val_accuracy: 0.9395\n",
      "Epoch 10/20\n",
      "990/990 [==============================] - 210s 212ms/step - loss: 0.0537 - accuracy: 0.9818 - val_loss: 0.2451 - val_accuracy: 0.9153\n",
      "Epoch 11/20\n",
      "990/990 [==============================] - 209s 211ms/step - loss: 0.0613 - accuracy: 0.9768 - val_loss: 0.2026 - val_accuracy: 0.9355\n",
      "Epoch 12/20\n",
      "990/990 [==============================] - 219s 221ms/step - loss: 0.0369 - accuracy: 0.9879 - val_loss: 0.1993 - val_accuracy: 0.9435\n",
      "Epoch 13/20\n",
      "990/990 [==============================] - 1000s 1s/step - loss: 0.0287 - accuracy: 0.9879 - val_loss: 0.1840 - val_accuracy: 0.9395\n",
      "Epoch 14/20\n",
      "990/990 [==============================] - 210s 212ms/step - loss: 0.0311 - accuracy: 0.9889 - val_loss: 0.2768 - val_accuracy: 0.9315\n",
      "Epoch 15/20\n",
      "990/990 [==============================] - 210s 212ms/step - loss: 0.0664 - accuracy: 0.9717 - val_loss: 0.3030 - val_accuracy: 0.9113\n",
      "Epoch 16/20\n",
      "990/990 [==============================] - 1524s 2s/step - loss: 0.0514 - accuracy: 0.9778 - val_loss: 0.1698 - val_accuracy: 0.9556\n",
      "Epoch 17/20\n",
      "990/990 [==============================] - 208s 210ms/step - loss: 0.0269 - accuracy: 0.9879 - val_loss: 0.2466 - val_accuracy: 0.9395\n",
      "Epoch 18/20\n",
      "990/990 [==============================] - 208s 210ms/step - loss: 0.0224 - accuracy: 0.9909 - val_loss: 0.1714 - val_accuracy: 0.9556\n",
      "Epoch 19/20\n",
      "990/990 [==============================] - 209s 211ms/step - loss: 0.0165 - accuracy: 0.9960 - val_loss: 0.2197 - val_accuracy: 0.9556\n",
      "Epoch 20/20\n",
      "990/990 [==============================] - 210s 212ms/step - loss: 0.0390 - accuracy: 0.9879 - val_loss: 0.1800 - val_accuracy: 0.9476\n"
     ]
    }
   ],
   "source": [
    "history=model.fit(train_Data,train_Target,epochs=20,callbacks=[checkpoint],validation_split=0.2)"
   ]
  },
  {
   "cell_type": "markdown",
   "metadata": {},
   "source": [
    "* In the above output, compare to all model ,i.e model_no. 007 is giving me a best accuracy, best loss and best validation accuracy"
   ]
  },
  {
   "cell_type": "markdown",
   "metadata": {},
   "source": [
    "* So, Now we will build a face detection model using model_no.007 i.e, with mask or without mask in Step_no. 3"
   ]
  },
  {
   "cell_type": "code",
   "execution_count": 15,
   "metadata": {},
   "outputs": [],
   "source": [
    "import matplotlib.pyplot as plt\n",
    "%matplotlib inline"
   ]
  },
  {
   "cell_type": "code",
   "execution_count": 17,
   "metadata": {},
   "outputs": [
    {
     "data": {
      "image/png": "[encoded data removed]",
      "text/plain": [
       "<Figure size 576x360 with 1 Axes>"
      ]
     },
     "metadata": {
      "needs_background": "light"
     },
     "output_type": "display_data"
    }
   ],
   "source": [
    "plt.figure(figsize=(8,5))\n",
    "plt.plot(history.history['loss'],'r',label='Traing_loss')\n",
    "plt.plot(history.history['val_loss'],'y',label='Validation_loss')\n",
    "plt.xlabel('No. of Epoch')\n",
    "plt.ylabel(\"loss and val_loss\")\n",
    "plt.legend()\n",
    "plt.show()"
   ]
  },
  {
   "cell_type": "code",
   "execution_count": 19,
   "metadata": {},
   "outputs": [
    {
     "data": {
      "image/png": "[encoded data removed]",
      "text/plain": [
       "<Figure size 432x288 with 1 Axes>"
      ]
     },
     "metadata": {
      "needs_background": "light"
     },
     "output_type": "display_data"
    }
   ],
   "source": [
    "plt.plot(history.history['accuracy'],'r',label='Traing_Accuracy')\n",
    "plt.plot(history.history['val_accuracy'],'y',label='Validation_Accuracy')\n",
    "plt.xlabel('No. of Epoch')\n",
    "plt.ylabel(\"accuracy and val_Accuracy\")\n",
    "plt.legend()\n",
    "plt.show()"
   ]
  },
  {
   "cell_type": "code",
   "execution_count": 20,
   "metadata": {
    "scrolled": true
   },
   "outputs": [
    {
     "name": "stdout",
     "output_type": "stream",
     "text": [
      "138/138 [==============================] - 12s 87ms/step\n",
      "Model Accuracy :  [0.0897509749384894, 0.9637681245803833]\n"
     ]
    }
   ],
   "source": [
    "print(\"Model Accuracy : \",model.evaluate(test_Data,test_Target))"
   ]
  },
  {
   "cell_type": "code",
   "execution_count": null,
   "metadata": {},
   "outputs": [],
   "source": []
  }
 ],
 "metadata": {
  "kernelspec": {
   "display_name": "Python 3",
   "language": "python",
   "name": "python3"
  },
  "language_info": {
   "codemirror_mode": {
    "name": "ipython",
    "version": 3
   },
   "file_extension": ".py",
   "mimetype": "text/x-python",
   "name": "python",
   "nbconvert_exporter": "python",
   "pygments_lexer": "ipython3",
   "version": "3.7.6"
  }
 },
 "nbformat": 4,
 "nbformat_minor": 4
}
